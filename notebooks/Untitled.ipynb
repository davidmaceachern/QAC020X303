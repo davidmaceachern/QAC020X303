{
 "cells": [
  {
   "cell_type": "code",
   "execution_count": null,
   "metadata": {},
   "outputs": [],
   "source": [
    "import matplotlib.pyplot as plt\n",
    "import numpy as np\n",
    "%matplotlib inline\n",
    "\n",
    "with plt.xkcd():\n",
    "    # Based on \"Stove Ownership\" from XKCD by Randall Munroe\n",
    "    # https://xkcd.com/418/\n",
    "\n",
    "    fig = plt.figure()\n",
    "    ax = fig.add_axes((0.1, 0.2, 0.8, 0.7))\n",
    "    ax.spines['right'].set_color('none')\n",
    "    ax.spines['top'].set_color('none')\n",
    "    ax.set_xticks([])\n",
    "    ax.set_yticks([])\n",
    "    ax.set_ylim([-30, 10])\n",
    "\n",
    "    data = np.ones(100)\n",
    "    data[70:] -= np.arange(30)\n",
    "\n",
    "    ax.annotate(\n",
    "        'THE DAY I STARTED\\n WORKING ON MY DATASCIENCE\\n ASSIGNMENT',\n",
    "        xy=(70, 1), arrowprops=dict(arrowstyle='->'), xytext=(15, -10))\n",
    "    \n",
    "    ax.annotate(\n",
    "        'Deadline',\n",
    "        xy=(90, -20), arrowprops=dict(arrowstyle='->'), xytext=(60, -20))\n",
    "    \n",
    "    ax.plot(data)\n",
    "\n",
    "    ax.set_xlabel('time')\n",
    "    ax.set_ylabel('hours of sunlight seen')\n",
    "    fig.text(\n",
    "        0.5, 0.05,\n",
    "        '\"Uni Deadlines\" from xkcd by D. MacEachern',\n",
    "        ha='center')"
   ]
  },
  {
   "cell_type": "code",
   "execution_count": null,
   "metadata": {},
   "outputs": [],
   "source": []
  }
 ],
 "metadata": {
  "kernelspec": {
   "display_name": "Python 3",
   "language": "python",
   "name": "python3"
  },
  "language_info": {
   "codemirror_mode": {
    "name": "ipython",
    "version": 3
   },
   "file_extension": ".py",
   "mimetype": "text/x-python",
   "name": "python",
   "nbconvert_exporter": "python",
   "pygments_lexer": "ipython3",
   "version": "3.7.0"
  }
 },
 "nbformat": 4,
 "nbformat_minor": 2
}
